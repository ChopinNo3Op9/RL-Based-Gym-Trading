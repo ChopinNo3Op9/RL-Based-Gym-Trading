{
  "cells": [
    {
      "cell_type": "markdown",
      "metadata": {},
      "source": [
        "### Imports"
      ]
    },
    {
      "cell_type": "code",
      "execution_count": 1,
      "metadata": {
        "tags": []
      },
      "outputs": [],
      "source": [
        "from tqdm import tqdm\n",
        "import random\n",
        "\n",
        "import numpy as np\n",
        "import pandas as pd\n",
        "import seaborn as sns\n",
        "import matplotlib.pyplot as plt\n",
        "\n",
        "# !pip install gym\n",
        "# !pip install gym-anytrading\n",
        "import gymnasium as gym\n",
        "import gym_anytrading\n",
        "from gym_anytrading.envs import TradingEnv, ForexEnv, StocksEnv, Actions, Positions \n",
        "\n",
        "# !pip install stable-baselines3\n",
        "from stable_baselines3 import A2C, PPO\n",
        "from stable_baselines3.common.callbacks import BaseCallback\n",
        "\n",
        "import torch"
      ]
    },
    {
      "cell_type": "code",
      "execution_count": 2,
      "metadata": {},
      "outputs": [
        {
          "name": "stdout",
          "output_type": "stream",
          "text": [
            "[*********************100%%**********************]  1 of 1 completed\n"
          ]
        }
      ],
      "source": [
        "import yfinance as yf\n",
        "\n",
        "# Download Tesla's stock data\n",
        "# data = yf.download('TSLA', start='2020-01-01', end='2020-03-31')\n",
        "data = yf.download('TSLA', end='2022-12-31')"
      ]
    },
    {
      "cell_type": "markdown",
      "metadata": {},
      "source": [
        "### Create Env"
      ]
    },
    {
      "cell_type": "code",
      "execution_count": 3,
      "metadata": {},
      "outputs": [
        {
          "data": {
            "text/plain": [
              "<gym_anytrading.envs.stocks_env.StocksEnv at 0x18cff036f20>"
            ]
          },
          "execution_count": 3,
          "metadata": {},
          "output_type": "execute_result"
        }
      ],
      "source": [
        "window_size = 100  # Number of past observations the agent can see\n",
        "frame_bound = (window_size, len(data))\n",
        "\n",
        "# env = MyStocksEnv(prices, signal_features, df=data, window_size=30, frame_bound=(30, len(data)))\n",
        "env = StocksEnv(df=data, window_size=window_size, frame_bound=frame_bound)\n",
        "env"
      ]
    },
    {
      "cell_type": "code",
      "execution_count": 4,
      "metadata": {},
      "outputs": [
        {
          "data": {
            "text/plain": [
              "(array([  1.592667,   1.588667,   1.464   , ..., 112.71    , 121.82    ,\n",
              "        123.18    ], dtype=float32),\n",
              " array([[ 1.5926670e+00,  0.0000000e+00],\n",
              "        [ 1.5886670e+00, -3.9999485e-03],\n",
              "        [ 1.4640000e+00, -1.2466705e-01],\n",
              "        ...,\n",
              "        [ 1.1271000e+02,  3.6100006e+00],\n",
              "        [ 1.2182000e+02,  9.1100006e+00],\n",
              "        [ 1.2318000e+02,  1.3600006e+00]], dtype=float32))"
            ]
          },
          "execution_count": 4,
          "metadata": {},
          "output_type": "execute_result"
        }
      ],
      "source": [
        "env._process_data()"
      ]
    },
    {
      "cell_type": "code",
      "execution_count": 5,
      "metadata": {},
      "outputs": [
        {
          "name": "stdout",
          "output_type": "stream",
          "text": [
            "> signal_features.shape: (3150, 2)\n"
          ]
        }
      ],
      "source": [
        "print(\"> signal_features.shape:\", env.signal_features.shape)"
      ]
    },
    {
      "cell_type": "code",
      "execution_count": 6,
      "metadata": {},
      "outputs": [
        {
          "data": {
            "text/plain": [
              "array([[ 1.5926670e+00,  0.0000000e+00],\n",
              "       [ 1.5886670e+00, -3.9999485e-03],\n",
              "       [ 1.4640000e+00, -1.2466705e-01],\n",
              "       ...,\n",
              "       [ 1.1271000e+02,  3.6100006e+00],\n",
              "       [ 1.2182000e+02,  9.1100006e+00],\n",
              "       [ 1.2318000e+02,  1.3600006e+00]], dtype=float32)"
            ]
          },
          "execution_count": 6,
          "metadata": {},
          "output_type": "execute_result"
        }
      ],
      "source": [
        "env.signal_features"
      ]
    },
    {
      "cell_type": "code",
      "execution_count": 7,
      "metadata": {},
      "outputs": [],
      "source": [
        "env_name = 'stocks-v0' \n",
        "# # # env_name = 'forex-v0'\n",
        "# env = gym.make(env_name)\n",
        "# env"
      ]
    },
    {
      "cell_type": "code",
      "execution_count": 8,
      "metadata": {},
      "outputs": [
        {
          "data": {
            "text/plain": [
              "(array([  1.592667,   1.588667,   1.464   , ..., 112.71    , 121.82    ,\n",
              "        123.18    ], dtype=float32),\n",
              " array([[ 1.5926670e+00,  0.0000000e+00],\n",
              "        [ 1.5886670e+00, -3.9999485e-03],\n",
              "        [ 1.4640000e+00, -1.2466705e-01],\n",
              "        ...,\n",
              "        [ 1.1271000e+02,  3.6100006e+00],\n",
              "        [ 1.2182000e+02,  9.1100006e+00],\n",
              "        [ 1.2318000e+02,  1.3600006e+00]], dtype=float32))"
            ]
          },
          "execution_count": 8,
          "metadata": {},
          "output_type": "execute_result"
        }
      ],
      "source": [
        "env._process_data()"
      ]
    },
    {
      "cell_type": "code",
      "execution_count": 9,
      "metadata": {},
      "outputs": [
        {
          "ename": "NameError",
          "evalue": "name 's' is not defined",
          "output_type": "error",
          "traceback": [
            "\u001b[1;31m---------------------------------------------------------------------------\u001b[0m",
            "\u001b[1;31mNameError\u001b[0m                                 Traceback (most recent call last)",
            "Cell \u001b[1;32mIn[9], line 1\u001b[0m\n\u001b[1;32m----> 1\u001b[0m \u001b[43ms\u001b[49m\n",
            "\u001b[1;31mNameError\u001b[0m: name 's' is not defined"
          ]
        }
      ],
      "source": [
        "s"
      ]
    },
    {
      "cell_type": "markdown",
      "metadata": {},
      "source": [
        "### Define Functions"
      ]
    },
    {
      "cell_type": "code",
      "execution_count": null,
      "metadata": {},
      "outputs": [],
      "source": [
        "def print_stats(reward_over_episodes):\n",
        "    \"\"\"  Print Reward  \"\"\"\n",
        "\n",
        "    avg = np.mean(reward_over_episodes)\n",
        "    min = np.min(reward_over_episodes)\n",
        "    max = np.max(reward_over_episodes)\n",
        "\n",
        "    print (f'Min. Reward          : {min:>10.3f}')\n",
        "    print (f'Avg. Reward          : {avg:>10.3f}')\n",
        "    print (f'Max. Reward          : {max:>10.3f}')\n",
        "\n",
        "    return min, avg, max\n",
        "\n",
        "\n",
        "# ProgressBarCallback for model.learn()\n",
        "class ProgressBarCallback(BaseCallback):\n",
        "    def __init__(self, check_freq: int, verbose: int = 1):\n",
        "        super().__init__(verbose)\n",
        "        self.check_freq = check_freq\n",
        "\n",
        "    def _on_training_start(self) -> None:\n",
        "        \"\"\"\n",
        "        This method is called before the first rollout starts.\n",
        "        \"\"\"\n",
        "        self.progress_bar = tqdm(total=self.model._total_timesteps, desc=\"model.learn()\")\n",
        "\n",
        "    def _on_step(self) -> bool:\n",
        "        if self.n_calls % self.check_freq == 0:\n",
        "            self.progress_bar.update(self.check_freq)\n",
        "        return True\n",
        "    \n",
        "    def _on_training_end(self) -> None:\n",
        "        \"\"\"\n",
        "        This event is triggered before exiting the `learn()` method.\n",
        "        \"\"\"\n",
        "        self.progress_bar.close()\n",
        "\n",
        "\n",
        "# TRAINING + TEST\n",
        "def train_test_model(model, env, seed, total_num_episodes, total_learning_timesteps=10_000):\n",
        "    \"\"\" if model=None then execute 'Random actions' \"\"\"\n",
        "\n",
        "    # reproduce training and test\n",
        "    print('-' * 80)\n",
        "    obs = env.reset(seed=seed)\n",
        "    torch.manual_seed(seed)\n",
        "    random.seed(seed)\n",
        "    np.random.seed(seed)\n",
        "\n",
        "    vec_env = None\n",
        "\n",
        "    if model is not None:\n",
        "        print(\"model is not None\")\n",
        "        print(f'model {type(model)}')\n",
        "        print(f'policy {type(model.policy)}')\n",
        "        # print(f'model.learn(): {total_learning_timesteps} timesteps ...')\n",
        "\n",
        "        # custom callback for 'progress_bar'\n",
        "        model.learn(total_timesteps=total_learning_timesteps, callback=ProgressBarCallback(100))\n",
        "        # model.learn(total_timesteps=total_learning_timesteps, progress_bar=True)\n",
        "        # ImportError: You must install tqdm and rich in order to use the progress bar callback. \n",
        "        # It is included if you install stable-baselines with the extra packages: `pip install stable-baselines3[extra]`\n",
        "\n",
        "        vec_env = model.get_env()\n",
        "        obs = vec_env.reset()\n",
        "    else:\n",
        "        print (\"RANDOM actions\")\n",
        "\n",
        "    reward_over_episodes = []\n",
        "\n",
        "    tbar = tqdm(range(total_num_episodes))\n",
        "\n",
        "    for episode in tbar:\n",
        "        \n",
        "        if vec_env: \n",
        "            obs = vec_env.reset()\n",
        "        else:\n",
        "            obs, info = env.reset()\n",
        "\n",
        "        total_reward = 0\n",
        "        done = False\n",
        "\n",
        "        while not done:\n",
        "            if model is not None:\n",
        "                action, _states = model.predict(obs)\n",
        "                obs, reward, done, info = vec_env.step(action)\n",
        "            else: # random\n",
        "                action = env.action_space.sample()\n",
        "                obs, reward, terminated, truncated, info = env.step(action)\n",
        "                done = terminated or truncated\n",
        "\n",
        "            total_reward += reward\n",
        "            if done:\n",
        "                break\n",
        "\n",
        "        reward_over_episodes.append(total_reward)\n",
        "\n",
        "        if episode % 10 == 0:\n",
        "            avg_reward = np.mean(reward_over_episodes)\n",
        "            tbar.set_description(f'Episode: {episode}, Avg. Reward: {avg_reward:.3f}')\n",
        "            tbar.update()\n",
        "\n",
        "    tbar.close()\n",
        "    avg_reward = np.mean(reward_over_episodes)\n",
        "\n",
        "    return reward_over_episodes"
      ]
    },
    {
      "cell_type": "markdown",
      "metadata": {},
      "source": [
        "### Train + Test Env"
      ]
    },
    {
      "cell_type": "code",
      "execution_count": null,
      "metadata": {
        "tags": []
      },
      "outputs": [
        {
          "name": "stdout",
          "output_type": "stream",
          "text": [
            "env_name:  stocks-v0\n",
            "seed:  42\n",
            "--------------------------------------------------------------------------------\n",
            "RANDOM actions\n"
          ]
        },
        {
          "name": "stderr",
          "output_type": "stream",
          "text": [
            "Episode: 0, Avg. Reward: 298.525:   6%|▌         | 3/50 [00:00<00:02, 16.75it/s]"
          ]
        },
        {
          "name": "stderr",
          "output_type": "stream",
          "text": [
            "Episode: 40, Avg. Reward: 298.525: 100%|██████████| 50/50 [00:02<00:00, 18.07it/s]\n"
          ]
        },
        {
          "name": "stdout",
          "output_type": "stream",
          "text": [
            "Min. Reward          :    298.525\n",
            "Avg. Reward          :    298.525\n",
            "Max. Reward          :    298.525\n",
            "\n",
            "step_key: 25K\n",
            "policy: <class 'stable_baselines3.common.policies.ActorCriticPolicy'> model_class: <class 'stable_baselines3.ppo.ppo.PPO'>\n",
            "--------------------------------------------------------------------------------\n",
            "model is not None\n",
            "model <class 'stable_baselines3.ppo.ppo.PPO'>\n",
            "policy <class 'stable_baselines3.common.policies.ActorCriticPolicy'>\n"
          ]
        },
        {
          "name": "stderr",
          "output_type": "stream",
          "text": [
            "model.learn():  41%|████      | 10200/25000 [00:17<00:18, 794.61it/s]"
          ]
        },
        {
          "ename": "KeyboardInterrupt",
          "evalue": "",
          "output_type": "error",
          "traceback": [
            "\u001b[1;31m---------------------------------------------------------------------------\u001b[0m",
            "\u001b[1;31mKeyboardInterrupt\u001b[0m                         Traceback (most recent call last)",
            "Cell \u001b[1;32mIn[10], line 54\u001b[0m\n\u001b[0;32m     52\u001b[0m class_name \u001b[38;5;241m=\u001b[39m \u001b[38;5;28mtype\u001b[39m(model)\u001b[38;5;241m.\u001b[39m\u001b[38;5;18m__qualname__\u001b[39m\n\u001b[0;32m     53\u001b[0m plot_key \u001b[38;5;241m=\u001b[39m \u001b[38;5;124mf\u001b[39m\u001b[38;5;124m'\u001b[39m\u001b[38;5;132;01m{\u001b[39;00mclass_name\u001b[38;5;132;01m}\u001b[39;00m\u001b[38;5;124m_rewards_\u001b[39m\u001b[38;5;124m'\u001b[39m\u001b[38;5;241m+\u001b[39mstep_key\n\u001b[1;32m---> 54\u001b[0m rewards \u001b[38;5;241m=\u001b[39m \u001b[43mtrain_test_model\u001b[49m\u001b[43m(\u001b[49m\u001b[43mmodel\u001b[49m\u001b[43m,\u001b[49m\u001b[43m \u001b[49m\u001b[43menv\u001b[49m\u001b[43m,\u001b[49m\u001b[43m \u001b[49m\u001b[43mseed\u001b[49m\u001b[43m,\u001b[49m\u001b[43m \u001b[49m\u001b[43mtotal_num_episodes\u001b[49m\u001b[43m,\u001b[49m\u001b[43m \u001b[49m\u001b[43mtotal_learning_timesteps\u001b[49m\u001b[43m)\u001b[49m\n\u001b[0;32m     55\u001b[0m \u001b[38;5;28mmin\u001b[39m, avg, \u001b[38;5;28mmax\u001b[39m, \u001b[38;5;241m=\u001b[39m print_stats(rewards)\n\u001b[0;32m     56\u001b[0m label \u001b[38;5;241m=\u001b[39m \u001b[38;5;124mf\u001b[39m\u001b[38;5;124m'\u001b[39m\u001b[38;5;124mAvg. \u001b[39m\u001b[38;5;132;01m{\u001b[39;00mavg\u001b[38;5;132;01m:\u001b[39;00m\u001b[38;5;124m>7.2f\u001b[39m\u001b[38;5;132;01m}\u001b[39;00m\u001b[38;5;124m : \u001b[39m\u001b[38;5;132;01m{\u001b[39;00mclass_name\u001b[38;5;132;01m}\u001b[39;00m\u001b[38;5;124m - \u001b[39m\u001b[38;5;132;01m{\u001b[39;00mstep_key\u001b[38;5;132;01m}\u001b[39;00m\u001b[38;5;124m'\u001b[39m\n",
            "Cell \u001b[1;32mIn[9], line 59\u001b[0m, in \u001b[0;36mtrain_test_model\u001b[1;34m(model, env, seed, total_num_episodes, total_learning_timesteps)\u001b[0m\n\u001b[0;32m     55\u001b[0m \u001b[38;5;28mprint\u001b[39m(\u001b[38;5;124mf\u001b[39m\u001b[38;5;124m'\u001b[39m\u001b[38;5;124mpolicy \u001b[39m\u001b[38;5;132;01m{\u001b[39;00m\u001b[38;5;28mtype\u001b[39m(model\u001b[38;5;241m.\u001b[39mpolicy)\u001b[38;5;132;01m}\u001b[39;00m\u001b[38;5;124m'\u001b[39m)\n\u001b[0;32m     56\u001b[0m \u001b[38;5;66;03m# print(f'model.learn(): {total_learning_timesteps} timesteps ...')\u001b[39;00m\n\u001b[0;32m     57\u001b[0m \n\u001b[0;32m     58\u001b[0m \u001b[38;5;66;03m# custom callback for 'progress_bar'\u001b[39;00m\n\u001b[1;32m---> 59\u001b[0m \u001b[43mmodel\u001b[49m\u001b[38;5;241;43m.\u001b[39;49m\u001b[43mlearn\u001b[49m\u001b[43m(\u001b[49m\u001b[43mtotal_timesteps\u001b[49m\u001b[38;5;241;43m=\u001b[39;49m\u001b[43mtotal_learning_timesteps\u001b[49m\u001b[43m,\u001b[49m\u001b[43m \u001b[49m\u001b[43mcallback\u001b[49m\u001b[38;5;241;43m=\u001b[39;49m\u001b[43mProgressBarCallback\u001b[49m\u001b[43m(\u001b[49m\u001b[38;5;241;43m100\u001b[39;49m\u001b[43m)\u001b[49m\u001b[43m)\u001b[49m\n\u001b[0;32m     60\u001b[0m \u001b[38;5;66;03m# model.learn(total_timesteps=total_learning_timesteps, progress_bar=True)\u001b[39;00m\n\u001b[0;32m     61\u001b[0m \u001b[38;5;66;03m# ImportError: You must install tqdm and rich in order to use the progress bar callback. \u001b[39;00m\n\u001b[0;32m     62\u001b[0m \u001b[38;5;66;03m# It is included if you install stable-baselines with the extra packages: `pip install stable-baselines3[extra]`\u001b[39;00m\n\u001b[0;32m     64\u001b[0m vec_env \u001b[38;5;241m=\u001b[39m model\u001b[38;5;241m.\u001b[39mget_env()\n",
            "File \u001b[1;32m~\\AppData\\Local\\Packages\\PythonSoftwareFoundation.Python.3.10_qbz5n2kfra8p0\\LocalCache\\local-packages\\Python310\\site-packages\\stable_baselines3\\ppo\\ppo.py:315\u001b[0m, in \u001b[0;36mPPO.learn\u001b[1;34m(self, total_timesteps, callback, log_interval, tb_log_name, reset_num_timesteps, progress_bar)\u001b[0m\n\u001b[0;32m    306\u001b[0m \u001b[38;5;28;01mdef\u001b[39;00m \u001b[38;5;21mlearn\u001b[39m(\n\u001b[0;32m    307\u001b[0m     \u001b[38;5;28mself\u001b[39m: SelfPPO,\n\u001b[0;32m    308\u001b[0m     total_timesteps: \u001b[38;5;28mint\u001b[39m,\n\u001b[1;32m   (...)\u001b[0m\n\u001b[0;32m    313\u001b[0m     progress_bar: \u001b[38;5;28mbool\u001b[39m \u001b[38;5;241m=\u001b[39m \u001b[38;5;28;01mFalse\u001b[39;00m,\n\u001b[0;32m    314\u001b[0m ) \u001b[38;5;241m-\u001b[39m\u001b[38;5;241m>\u001b[39m SelfPPO:\n\u001b[1;32m--> 315\u001b[0m     \u001b[38;5;28;01mreturn\u001b[39;00m \u001b[38;5;28;43msuper\u001b[39;49m\u001b[43m(\u001b[49m\u001b[43m)\u001b[49m\u001b[38;5;241;43m.\u001b[39;49m\u001b[43mlearn\u001b[49m\u001b[43m(\u001b[49m\n\u001b[0;32m    316\u001b[0m \u001b[43m        \u001b[49m\u001b[43mtotal_timesteps\u001b[49m\u001b[38;5;241;43m=\u001b[39;49m\u001b[43mtotal_timesteps\u001b[49m\u001b[43m,\u001b[49m\n\u001b[0;32m    317\u001b[0m \u001b[43m        \u001b[49m\u001b[43mcallback\u001b[49m\u001b[38;5;241;43m=\u001b[39;49m\u001b[43mcallback\u001b[49m\u001b[43m,\u001b[49m\n\u001b[0;32m    318\u001b[0m \u001b[43m        \u001b[49m\u001b[43mlog_interval\u001b[49m\u001b[38;5;241;43m=\u001b[39;49m\u001b[43mlog_interval\u001b[49m\u001b[43m,\u001b[49m\n\u001b[0;32m    319\u001b[0m \u001b[43m        \u001b[49m\u001b[43mtb_log_name\u001b[49m\u001b[38;5;241;43m=\u001b[39;49m\u001b[43mtb_log_name\u001b[49m\u001b[43m,\u001b[49m\n\u001b[0;32m    320\u001b[0m \u001b[43m        \u001b[49m\u001b[43mreset_num_timesteps\u001b[49m\u001b[38;5;241;43m=\u001b[39;49m\u001b[43mreset_num_timesteps\u001b[49m\u001b[43m,\u001b[49m\n\u001b[0;32m    321\u001b[0m \u001b[43m        \u001b[49m\u001b[43mprogress_bar\u001b[49m\u001b[38;5;241;43m=\u001b[39;49m\u001b[43mprogress_bar\u001b[49m\u001b[43m,\u001b[49m\n\u001b[0;32m    322\u001b[0m \u001b[43m    \u001b[49m\u001b[43m)\u001b[49m\n",
            "File \u001b[1;32m~\\AppData\\Local\\Packages\\PythonSoftwareFoundation.Python.3.10_qbz5n2kfra8p0\\LocalCache\\local-packages\\Python310\\site-packages\\stable_baselines3\\common\\on_policy_algorithm.py:313\u001b[0m, in \u001b[0;36mOnPolicyAlgorithm.learn\u001b[1;34m(self, total_timesteps, callback, log_interval, tb_log_name, reset_num_timesteps, progress_bar)\u001b[0m\n\u001b[0;32m    310\u001b[0m         \u001b[38;5;28;01massert\u001b[39;00m \u001b[38;5;28mself\u001b[39m\u001b[38;5;241m.\u001b[39mep_info_buffer \u001b[38;5;129;01mis\u001b[39;00m \u001b[38;5;129;01mnot\u001b[39;00m \u001b[38;5;28;01mNone\u001b[39;00m\n\u001b[0;32m    311\u001b[0m         \u001b[38;5;28mself\u001b[39m\u001b[38;5;241m.\u001b[39m_dump_logs(iteration)\n\u001b[1;32m--> 313\u001b[0m     \u001b[38;5;28;43mself\u001b[39;49m\u001b[38;5;241;43m.\u001b[39;49m\u001b[43mtrain\u001b[49m\u001b[43m(\u001b[49m\u001b[43m)\u001b[49m\n\u001b[0;32m    315\u001b[0m callback\u001b[38;5;241m.\u001b[39mon_training_end()\n\u001b[0;32m    317\u001b[0m \u001b[38;5;28;01mreturn\u001b[39;00m \u001b[38;5;28mself\u001b[39m\n",
            "File \u001b[1;32m~\\AppData\\Local\\Packages\\PythonSoftwareFoundation.Python.3.10_qbz5n2kfra8p0\\LocalCache\\local-packages\\Python310\\site-packages\\stable_baselines3\\ppo\\ppo.py:266\u001b[0m, in \u001b[0;36mPPO.train\u001b[1;34m(self)\u001b[0m\n\u001b[0;32m    260\u001b[0m loss \u001b[38;5;241m=\u001b[39m policy_loss \u001b[38;5;241m+\u001b[39m \u001b[38;5;28mself\u001b[39m\u001b[38;5;241m.\u001b[39ment_coef \u001b[38;5;241m*\u001b[39m entropy_loss \u001b[38;5;241m+\u001b[39m \u001b[38;5;28mself\u001b[39m\u001b[38;5;241m.\u001b[39mvf_coef \u001b[38;5;241m*\u001b[39m value_loss\n\u001b[0;32m    262\u001b[0m \u001b[38;5;66;03m# Calculate approximate form of reverse KL Divergence for early stopping\u001b[39;00m\n\u001b[0;32m    263\u001b[0m \u001b[38;5;66;03m# see issue #417: https://github.com/DLR-RM/stable-baselines3/issues/417\u001b[39;00m\n\u001b[0;32m    264\u001b[0m \u001b[38;5;66;03m# and discussion in PR #419: https://github.com/DLR-RM/stable-baselines3/pull/419\u001b[39;00m\n\u001b[0;32m    265\u001b[0m \u001b[38;5;66;03m# and Schulman blog: http://joschu.net/blog/kl-approx.html\u001b[39;00m\n\u001b[1;32m--> 266\u001b[0m \u001b[38;5;28;01mwith\u001b[39;00m \u001b[43mth\u001b[49m\u001b[38;5;241;43m.\u001b[39;49m\u001b[43mno_grad\u001b[49m\u001b[43m(\u001b[49m\u001b[43m)\u001b[49m:\n\u001b[0;32m    267\u001b[0m     log_ratio \u001b[38;5;241m=\u001b[39m log_prob \u001b[38;5;241m-\u001b[39m rollout_data\u001b[38;5;241m.\u001b[39mold_log_prob\n\u001b[0;32m    268\u001b[0m     approx_kl_div \u001b[38;5;241m=\u001b[39m th\u001b[38;5;241m.\u001b[39mmean((th\u001b[38;5;241m.\u001b[39mexp(log_ratio) \u001b[38;5;241m-\u001b[39m \u001b[38;5;241m1\u001b[39m) \u001b[38;5;241m-\u001b[39m log_ratio)\u001b[38;5;241m.\u001b[39mcpu()\u001b[38;5;241m.\u001b[39mnumpy()\n",
            "File \u001b[1;32m~\\AppData\\Local\\Packages\\PythonSoftwareFoundation.Python.3.10_qbz5n2kfra8p0\\LocalCache\\local-packages\\Python310\\site-packages\\torch\\utils\\_contextlib.py:149\u001b[0m, in \u001b[0;36m_NoParamDecoratorContextManager.__new__\u001b[1;34m(cls, orig_func)\u001b[0m\n\u001b[0;32m    146\u001b[0m \u001b[38;5;28;01mclass\u001b[39;00m \u001b[38;5;21;01m_NoParamDecoratorContextManager\u001b[39;00m(_DecoratorContextManager):\n\u001b[0;32m    147\u001b[0m     \u001b[38;5;124;03m\"\"\"Allow a context manager to be used as a decorator without parentheses\"\"\"\u001b[39;00m\n\u001b[1;32m--> 149\u001b[0m     \u001b[38;5;28;01mdef\u001b[39;00m \u001b[38;5;21m__new__\u001b[39m(\u001b[38;5;28mcls\u001b[39m, orig_func\u001b[38;5;241m=\u001b[39m\u001b[38;5;28;01mNone\u001b[39;00m):\n\u001b[0;32m    150\u001b[0m         \u001b[38;5;28;01mif\u001b[39;00m orig_func \u001b[38;5;129;01mis\u001b[39;00m \u001b[38;5;28;01mNone\u001b[39;00m:\n\u001b[0;32m    151\u001b[0m             \u001b[38;5;28;01mreturn\u001b[39;00m \u001b[38;5;28msuper\u001b[39m()\u001b[38;5;241m.\u001b[39m\u001b[38;5;21m__new__\u001b[39m(\u001b[38;5;28mcls\u001b[39m)\n",
            "\u001b[1;31mKeyboardInterrupt\u001b[0m: "
          ]
        }
      ],
      "source": [
        "seed = 42  # random seed\n",
        "total_num_episodes = 50\n",
        "\n",
        "print (\"env_name: \", env_name)\n",
        "print (\"seed: \", seed)\n",
        "\n",
        "# INIT matplotlib\n",
        "plot_settings = {}\n",
        "plot_data = {'x': [i for i in range(1, total_num_episodes + 1)]}\n",
        "\n",
        "# Random actions\n",
        "model = None \n",
        "total_learning_timesteps = 0\n",
        "rewards = train_test_model(model, env, seed, total_num_episodes, total_learning_timesteps)\n",
        "min, avg, max = print_stats(rewards)\n",
        "class_name = f'Random actions'\n",
        "label = f'Avg. {avg:>7.2f} : {class_name}'\n",
        "plot_data['rnd_rewards'] = rewards\n",
        "plot_settings['rnd_rewards'] = {'label': label}\n",
        "\n",
        "learning_timesteps_list_in_K = [25]\n",
        "# learning_timesteps_list_in_K = [50, 250, 500]\n",
        "# learning_timesteps_list_in_K = [500, 1000, 3000, 5000]\n",
        "\n",
        "# RL Algorithms: https://stable-baselines3.readthedocs.io/en/master/guide/algos.html\n",
        "# model_class_list = [A2C, PPO]\n",
        "model_class_list = [PPO]\n",
        "\n",
        "for timesteps in learning_timesteps_list_in_K:\n",
        "    total_learning_timesteps = timesteps * 1000  # how many decisions (actions)\n",
        "    step_key = f'{timesteps}K'\n",
        "    print('\\nstep_key:', step_key)\n",
        "\n",
        "    for model_class in model_class_list:\n",
        "        policy_dict = model_class.policy_aliases\n",
        "        # https://stable-baselines3.readthedocs.io/en/master/guide/custom_policy.html\n",
        "        # MlpPolicy or MlpLstmPolicy\n",
        "        policy = policy_dict.get('MlpPolicy')\n",
        "        if policy is None:\n",
        "            policy = policy_dict.get('MlpLstmPolicy')\n",
        "        print ('policy:', policy, 'model_class:', model_class)\n",
        "\n",
        "        try:\n",
        "            # # Hyperparameter search space\n",
        "            # learning_rates = np.linspace(1e-5, 1e-3, 10)\n",
        "            # clip_ranges = np.linspace(0.1, 0.3, 10)\n",
        "\n",
        "            # for lr in learning_rates:\n",
        "            #     for clip in clip_ranges:\n",
        "            #         model = model_class('MlpPolicy', env, learning_rate=lr, clip_range=clip, verbose=0)\n",
        "            model = model_class(policy, env, verbose=0)\n",
        "            class_name = type(model).__qualname__\n",
        "            plot_key = f'{class_name}_rewards_'+step_key\n",
        "            rewards = train_test_model(model, env, seed, total_num_episodes, total_learning_timesteps)\n",
        "            min, avg, max, = print_stats(rewards)\n",
        "            label = f'Avg. {avg:>7.2f} : {class_name} - {step_key}'\n",
        "            plot_data[plot_key] = rewards\n",
        "            plot_settings[plot_key] = {'label': label}     \n",
        "                   \n",
        "        except Exception as e:\n",
        "            print(f\"ERROR: {str(e)}\")\n",
        "            continue"
      ]
    },
    {
      "cell_type": "markdown",
      "metadata": {},
      "source": [
        "### Plot Results"
      ]
    },
    {
      "cell_type": "code",
      "execution_count": null,
      "metadata": {},
      "outputs": [
        {
          "data": {
            "image/png": "[encoded data removed]",
            "text/plain": [
              "<Figure size 800x600 with 1 Axes>"
            ]
          },
          "metadata": {},
          "output_type": "display_data"
        }
      ],
      "source": [
        "data = pd.DataFrame(plot_data)\n",
        "\n",
        "sns.set_style('whitegrid')\n",
        "plt.figure(figsize=(8, 6))\n",
        "\n",
        "for key in plot_data:\n",
        "    if key == 'x':\n",
        "        continue\n",
        "    label = plot_settings[key]['label']\n",
        "    line = plt.plot('x', key, data=data, linewidth=1, label=label)\n",
        "\n",
        "plt.xlabel('episode')\n",
        "plt.ylabel('reward')\n",
        "plt.title('Random vs. SB3 Agents')\n",
        "plt.legend()\n",
        "plt.show()"
      ]
    }
  ],
  "metadata": {
    "accelerator": "GPU",
    "colab": {
      "collapsed_sections": [],
      "name": "p3.ipynb",
      "provenance": []
    },
    "kernelspec": {
      "display_name": "Python 3",
      "name": "python3"
    },
    "language_info": {
      "codemirror_mode": {
        "name": "ipython",
        "version": 3
      },
      "file_extension": ".py",
      "mimetype": "text/x-python",
      "name": "python",
      "nbconvert_exporter": "python",
      "pygments_lexer": "ipython3",
      "version": "3.10.11"
    }
  },
  "nbformat": 4,
  "nbformat_minor": 0
}
